{
  "cells": [
    {
      "cell_type": "code",
      "source": [
        "# PCA to 1000 components\n",
        "\n",
        "import pandas as pd\n",
        "import numpy as np\n",
        "from sklearn.model_selection import train_test_split\n",
        "from sklearn.decomposition import PCA\n",
        "from sklearn.linear_model import LogisticRegression\n",
        "from sklearn.metrics import accuracy_score\n",
        "\n",
        "# Load data from Excel file\n",
        "data = pd.read_excel('/content/drive/MyDrive/_projects/dr-amira/data.xlsx')\n",
        "print(\"data: \" + type(data))\n",
        "# Separate features (X) and labels (y)\n",
        "X = data.iloc[:, 1:]  # Assuming features start from the second column\n",
        "y = data.iloc[:, 0]   # Assuming labels are in the first column\n",
        "print(\"x: \" + type(x))\n",
        "# Apply PCA to reduce dimensionality to 1000 dimensions\n",
        "pca = PCA(n_components=1000)\n",
        "X_pca = pca.fit_transform(X)\n",
        "\n",
        "# Split the data into training and testing sets (80/20 split)\n",
        "X_train, X_test, y_train, y_test = train_test_split(X_pca, y, test_size=0.2, random_state=42)\n",
        "\n",
        "# Train a classifier (logistic regression) on the transformed features\n",
        "classifier = LogisticRegression()\n",
        "classifier.fit(X_train, y_train)\n",
        "\n",
        "# Make predictions on the testing data\n",
        "y_pred = classifier.predict(X_test)\n",
        "\n",
        "# Evaluate the classifier\n",
        "accuracy = accuracy_score(y_test, y_pred)\n",
        "print(\"Accuracy:\", accuracy)\n"
      ],
      "metadata": {
        "id": "8R-DCjvUTpJu"
      },
      "execution_count": null,
      "outputs": []
    },
    {
      "cell_type": "code",
      "source": [
        "# PCA to 2 components\n",
        "import pandas as pd\n",
        "from sklearn.decomposition import PCA\n",
        "from sklearn.preprocessing import StandardScaler\n",
        "import matplotlib.pyplot as plt\n",
        "\n",
        "# Load data from Excel file\n",
        "data = pd.read_excel('/content/drive/MyDrive/_projects/dr-amira/data.xlsx')\n",
        "\n",
        "# Separate features (X) and labels (y)\n",
        "X = data.iloc[:, 1:]  # Assuming features start from the second column\n",
        "y = data.iloc[:, 0]   # Assuming labels are in the first column\n",
        "\n",
        "# Standardize the features\n",
        "scaler = StandardScaler()\n",
        "X_scaled = scaler.fit_transform(X)\n",
        "\n",
        "# Apply PCA\n",
        "pca = PCA(n_components=2)  # Reduce to 2 dimensions for visualization\n",
        "X_pca = pca.fit_transform(X_scaled)\n",
        "\n",
        "# Plot the transformed data\n",
        "plt.figure(figsize=(8, 6))\n",
        "plt.scatter(X_pca[y == 1, 0], X_pca[y == 1, 1], color='red', label='Cancer')\n",
        "plt.scatter(X_pca[y == 11, 0], X_pca[y == 11, 1], color='blue', label='No Cancer')\n",
        "plt.title('PCA for Breast Cancer Dataset')\n",
        "plt.xlabel('Principal Component 1')\n",
        "plt.ylabel('Principal Component 2')\n",
        "plt.legend()\n",
        "plt.show()\n"
      ],
      "metadata": {
        "id": "S4tPkRLbTIBk"
      },
      "execution_count": null,
      "outputs": []
    },
    {
      "cell_type": "code",
      "source": [
        "# XGboost crashes on run time\n",
        "import pandas as pd\n",
        "import numpy as np\n",
        "from sklearn.model_selection import train_test_split\n",
        "import xgboost as xgb\n",
        "from sklearn.metrics import accuracy_score\n",
        "\n",
        "# Load data from Excel file\n",
        "data = pd.read_excel('/content/drive/MyDrive/_projects/dr-amira/data.xlsx')\n",
        "\n",
        "# Separate features (X) and labels (y)\n",
        "X = data.iloc[:, 1:]  # Assuming features start from the second column\n",
        "y = data.iloc[:, 0]   # Assuming labels are in the first column\n",
        "\n",
        "# Split the data into training and testing sets (80/20 split)\n",
        "X_train, X_test, y_train, y_test = train_test_split(X, y, test_size=0.2, random_state=42)\n",
        "\n",
        "# Define XGBoost model\n",
        "model = xgb.XGBClassifier()\n",
        "\n",
        "# Train the model on the training data\n",
        "model.fit(X_train, y_train)\n",
        "\n",
        "# Make predictions on the testing data\n",
        "y_pred = model.predict(X_test)\n",
        "\n",
        "# Evaluate the model\n",
        "accuracy = accuracy_score(y_test, y_pred)\n",
        "print(\"Accuracy:\", accuracy)\n"
      ],
      "metadata": {
        "id": "IwG8MPnAOwU4"
      },
      "execution_count": null,
      "outputs": []
    },
    {
      "cell_type": "code",
      "source": [
        "# CNN crashes on run time\n",
        "\n",
        "import pandas as pd\n",
        "import numpy as np\n",
        "from sklearn.model_selection import train_test_split\n",
        "from tensorflow.keras.models import Sequential\n",
        "from tensorflow.keras.layers import Dense\n",
        "\n",
        "# Load data from Excel file\n",
        "df = pd.read_excel(\"/content/drive/MyDrive/_projects/dr-amira/data.xlsx\")\n",
        "\n",
        "# Split features and labels\n",
        "X = df.iloc[:, 1:].values  # Features (genes measurements)\n",
        "y = df.iloc[:, 0].values   # Labels (1 for normal, 11 for cancer)\n",
        "\n",
        "# Normalize features\n",
        "X = X / np.max(X)\n",
        "\n",
        "# Convert labels to binary (0 for normal, 1 for cancer)\n",
        "y_binary = np.where(y == 11, 1, 0)\n",
        "\n",
        "# Split data into training and testing sets (80% train, 20% test)\n",
        "X_train, X_test, y_train, y_test = train_test_split(X, y_binary, test_size=0.2, random_state=42)\n",
        "\n",
        "# Create sequential model\n",
        "model = Sequential([\n",
        "    Dense(128, input_shape=(X_train.shape[1],), activation='relu'),\n",
        "    Dense(64, activation='relu'),\n",
        "    Dense(1, activation='sigmoid')  # Output layer, binary classification\n",
        "])\n",
        "\n",
        "# Compile model\n",
        "model.compile(optimizer='adam', loss='binary_crossentropy', metrics=['accuracy'])\n",
        "\n",
        "# Train model\n",
        "model.fit(X_train, y_train, epochs=10, batch_size=32, validation_data=(X_test, y_test))\n",
        "\n",
        "# Evaluate model on test set\n",
        "loss, accuracy = model.evaluate(X_test, y_test)\n",
        "print(f'Test Loss: {loss:.4f}, Test Accuracy: {accuracy:.4f}')\n"
      ],
      "metadata": {
        "id": "YzkLpYohLYL5"
      },
      "execution_count": null,
      "outputs": []
    },
    {
      "cell_type": "code",
      "source": [
        "# TSNE crashes multiple times\n",
        "import pandas as pd\n",
        "from sklearn.manifold import TSNE\n",
        "import matplotlib.pyplot as plt\n",
        "\n",
        "# Load the dataset from Excel file\n",
        "data = pd.read_excel('/content/drive/MyDrive/_projects/dr-amira/data.xlsx')\n",
        "\n",
        "# Separate features and target variable\n",
        "X = data.iloc[:, 1:]  # Features (excluding the first column)\n",
        "y = data.iloc[:, 0]   # Target variable (first column)\n",
        "\n",
        "# Initialize and fit t-SNE\n",
        "tsne = TSNE(n_components=2, random_state=42)\n",
        "X_embedded = tsne.fit_transform(X)\n",
        "\n",
        "# Plot the transformed data\n",
        "plt.figure(figsize=(8, 6))\n",
        "plt.scatter(X_embedded[y == 1, 0], X_embedded[y == 1, 1], label='Breast Cancer', c='r', alpha=0.5)\n",
        "plt.scatter(X_embedded[y == 11, 0], X_embedded[y == 11, 1], label='No Breast Cancer', c='b', alpha=0.5)\n",
        "plt.title('t-SNE Visualization of Breast Cancer Dataset')\n",
        "plt.xlabel('t-SNE Dimension 1')\n",
        "plt.ylabel('t-SNE Dimension 2')\n",
        "plt.legend()\n",
        "plt.show()\n"
      ],
      "metadata": {
        "id": "1YV4qic8r3F4"
      },
      "execution_count": null,
      "outputs": []
    },
    {
      "cell_type": "code",
      "execution_count": null,
      "metadata": {
        "id": "OVfGaIfivyPd"
      },
      "outputs": [],
      "source": [
        "# auto encoder directly over the data\n",
        "# crashes multiple times\n",
        "import pandas as pd\n",
        "from sklearn.model_selection import train_test_split\n",
        "from tensorflow.keras.models import Model\n",
        "from tensorflow.keras.layers import Input, Dense\n",
        "\n",
        "# Load the dataset from an Excel file\n",
        "data = pd.read_excel(\"/content/drive/MyDrive/_projects/dr-amira/data.xlsx\")\n",
        "\n",
        "# Split the dataset into features (X) and labels (y)\n",
        "X = data.iloc[:, 1:].values\n",
        "y = data.iloc[:, 0].values\n",
        "\n",
        "# Normalize the features\n",
        "X = X / np.max(X)\n",
        "\n",
        "# Split the dataset into training and testing sets\n",
        "X_train, X_test, _, _ = train_test_split(X, y, test_size=0.2, random_state=42)\n",
        "\n",
        "# Define the autoencoder architecture\n",
        "input_dim = X_train.shape[1]\n",
        "encoding_dim = 128\n",
        "\n",
        "input_layer = Input(shape=(input_dim,))\n",
        "encoder = Dense(encoding_dim, activation='relu')(input_layer)\n",
        "decoder = Dense(input_dim, activation='sigmoid')(encoder)\n",
        "\n",
        "# Define the autoencoder model\n",
        "autoencoder = Model(inputs=input_layer, outputs=decoder)\n",
        "\n",
        "# Compile the autoencoder model\n",
        "autoencoder.compile(optimizer='adam', loss='binary_crossentropy')\n",
        "\n",
        "# Train the autoencoder model\n",
        "autoencoder.fit(X_train, X_train, epochs=50, batch_size=32, shuffle=True, validation_data=(X_test, X_test))\n",
        "\n",
        "# Use the trained autoencoder to reconstruct the input data\n",
        "reconstructed_data = autoencoder.predict(X)\n",
        "\n",
        "# Evaluate the reconstruction error\n",
        "reconstruction_error = np.mean(np.abs(X - reconstructed_data))\n",
        "\n",
        "print(\"Reconstruction error:\", reconstruction_error)\n"
      ]
    },
    {
      "cell_type": "code",
      "source": [
        "from google.colab import drive\n",
        "drive.mount('/content/drive')"
      ],
      "metadata": {
        "colab": {
          "base_uri": "https://localhost:8080/"
        },
        "id": "MghaEqfBmvl-",
        "outputId": "7901f500-9902-4b29-d9b8-4daa7330e418"
      },
      "execution_count": 2,
      "outputs": [
        {
          "output_type": "stream",
          "name": "stdout",
          "text": [
            "Mounted at /content/drive\n"
          ]
        }
      ]
    }
  ],
  "metadata": {
    "colab": {
      "provenance": []
    },
    "kernelspec": {
      "display_name": "Python 3",
      "name": "python3"
    },
    "language_info": {
      "name": "python"
    }
  },
  "nbformat": 4,
  "nbformat_minor": 0
}